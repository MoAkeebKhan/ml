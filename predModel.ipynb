{
 "metadata": {
  "language_info": {
   "codemirror_mode": {
    "name": "ipython",
    "version": 3
   },
   "file_extension": ".py",
   "mimetype": "text/x-python",
   "name": "python",
   "nbconvert_exporter": "python",
   "pygments_lexer": "ipython3",
   "version": "3.7.9-final"
  },
  "orig_nbformat": 2,
  "kernelspec": {
   "name": "python3",
   "display_name": "Python 3",
   "language": "python"
  }
 },
 "nbformat": 4,
 "nbformat_minor": 2,
 "cells": [
  {
   "cell_type": "code",
   "execution_count": 1,
   "metadata": {},
   "outputs": [],
   "source": [
    "import datetime\n",
    "\n",
    "import numpy as np\n",
    "import pandas as pd\n",
    "\n",
    "import matplotlib.pyplot as plt\n",
    "import seaborn as sns\n",
    "%matplotlib inline\n",
    "\n",
    "from sklearn.model_selection import train_test_split\n",
    "from sklearn.linear_model import LinearRegression\n",
    "from sklearn.ensemble import RandomForestRegressor\n",
    "from sklearn.preprocessing import StandardScaler\n",
    "from sklearn.metrics import r2_score"
   ]
  },
  {
   "cell_type": "code",
   "execution_count": 2,
   "metadata": {},
   "outputs": [],
   "source": [
    "dataset = pd.read_csv(\"data/dataset.csv\")\n"
   ]
  },
  {
   "cell_type": "code",
   "execution_count": 3,
   "metadata": {},
   "outputs": [],
   "source": [
    "X_train, X_test, y_train, y_test = train_test_split(dataset.iloc[:, :-1], \n",
    "                                                    dataset.iloc[:, -1], \n",
    "                                                    test_size = 0.3, \n",
    "                                                    random_state = 42)"
   ]
  },
  {
   "cell_type": "code",
   "execution_count": 4,
   "metadata": {},
   "outputs": [],
   "source": [
    "make_train = X_train[\"Name\"].str.split(\" \", expand = True)\n",
    "make_test = X_test[\"Name\"].str.split(\" \", expand = True)"
   ]
  },
  {
   "cell_type": "code",
   "execution_count": 5,
   "metadata": {},
   "outputs": [],
   "source": [
    "X_train[\"Manufacturer\"] = make_train[0]\n",
    "X_test[\"Manufacturer\"] = make_test[0]"
   ]
  },
  {
   "cell_type": "code",
   "execution_count": 6,
   "metadata": {},
   "outputs": [],
   "source": [
    "ManufaturerDict = {\n",
    "                    'Ford':1,'Maruti':2,'Honda':3,'Audi':4,'Nissan':5,'Hyundai':6,'Mahindra':7,'Tata':8,'BMW':9,'Skoda':10,\n",
    "                    'Porsche':11,'Toyota':12,'Chevrolet':13,'Mercedes-Benz':14,'Land':15,'Force':16,'Volkswagen':17,                            'Renault':18,'Jaguar':19,'Volvo':20,'Mini':21,'Mitsubishi':22,'Fiat':23,'Ambassador':24,'Datsun':25,\n",
    "                    'ISUZU':26,'Jeep':27,'Bentley':28,'Smart':29,'Lamborghini':30\n",
    "                    }\n",
    "X_train['Manufacture'] = X_train.Manufacturer.map(ManufaturerDict)\n",
    "X_train.drop(\"Manufacturer\", axis = 1, inplace = True)"
   ]
  },
  {
   "cell_type": "code",
   "execution_count": 7,
   "metadata": {},
   "outputs": [],
   "source": [
    "X_test['Manufacture'] = X_test.Manufacturer.map(ManufaturerDict)\n",
    "X_test.drop(\"Manufacturer\", axis = 1, inplace = True)\n"
   ]
  },
  {
   "cell_type": "code",
   "execution_count": 8,
   "metadata": {},
   "outputs": [],
   "source": [
    "X_train.drop(\"Name\", axis = 1, inplace = True)\n",
    "X_test.drop(\"Name\", axis = 1, inplace = True)"
   ]
  },
  {
   "cell_type": "code",
   "execution_count": 9,
   "metadata": {},
   "outputs": [],
   "source": [
    "X_train.drop(\"Location\", axis = 1, inplace = True)\n",
    "X_test.drop(\"Location\", axis = 1, inplace = True)"
   ]
  },
  {
   "cell_type": "code",
   "execution_count": 10,
   "metadata": {},
   "outputs": [],
   "source": [
    "curr_time = datetime.datetime.now()\n",
    "X_train['Year'] = X_train['Year'].apply(lambda x : curr_time.year - x)\n",
    "X_test['Year'] = X_test['Year'].apply(lambda x : curr_time.year - x)"
   ]
  },
  {
   "cell_type": "code",
   "execution_count": 11,
   "metadata": {},
   "outputs": [],
   "source": [
    "mileage_train = X_train[\"Mileage\"].str.split(\" \", expand = True)\n",
    "mileage_test = X_test[\"Mileage\"].str.split(\" \", expand = True)\n",
    "\n",
    "X_train[\"Mileage\"] = pd.to_numeric(mileage_train[0], errors = 'coerce')\n",
    "X_test[\"Mileage\"] = pd.to_numeric(mileage_test[0], errors = 'coerce')"
   ]
  },
  {
   "cell_type": "code",
   "execution_count": 12,
   "metadata": {},
   "outputs": [
    {
     "output_type": "stream",
     "name": "stdout",
     "text": [
      "1\n1\n"
     ]
    }
   ],
   "source": [
    "print(sum(X_train[\"Mileage\"].isnull()))\n",
    "print(sum(X_test[\"Mileage\"].isnull()))"
   ]
  },
  {
   "cell_type": "code",
   "execution_count": 13,
   "metadata": {},
   "outputs": [],
   "source": [
    "X_train[\"Mileage\"].fillna(X_train[\"Mileage\"].astype(\"float64\").mean() ,inplace = True)\n",
    "X_test[\"Mileage\"].fillna(X_train[\"Mileage\"].astype(\"float64\").mean(), inplace = True)"
   ]
  },
  {
   "cell_type": "code",
   "execution_count": 14,
   "metadata": {},
   "outputs": [
    {
     "output_type": "stream",
     "name": "stdout",
     "text": [
      "1\n"
     ]
    }
   ],
   "source": [
    "print(sum(X_test[\"Manufacture\"].isnull()))\n"
   ]
  },
  {
   "cell_type": "code",
   "execution_count": 15,
   "metadata": {},
   "outputs": [],
   "source": [
    "X_test[\"Manufacture\"].fillna(X_train[\"Manufacture\"].astype(\"int\").mean(), inplace = True)"
   ]
  },
  {
   "cell_type": "code",
   "execution_count": 16,
   "metadata": {},
   "outputs": [
    {
     "output_type": "stream",
     "name": "stdout",
     "text": [
      "0\n"
     ]
    }
   ],
   "source": [
    "print(sum(X_test[\"Manufacture\"].isnull()))\n"
   ]
  },
  {
   "cell_type": "code",
   "execution_count": 17,
   "metadata": {},
   "outputs": [],
   "source": [
    "cc_train = X_train[\"Engine\"].str.split(\" \", expand = True)\n",
    "cc_test = X_test[\"Engine\"].str.split(\" \", expand = True)\n",
    "X_train[\"Engine\"] = pd.to_numeric(cc_train[0], errors = 'coerce')\n",
    "X_test[\"Engine\"] = pd.to_numeric(cc_test[0], errors = 'coerce')\n",
    "\n",
    "bhp_train = X_train[\"Power\"].str.split(\" \", expand = True)\n",
    "bhp_test = X_test[\"Power\"].str.split(\" \", expand = True)\n",
    "X_train[\"Power\"] = pd.to_numeric(bhp_train[0], errors = 'coerce')\n",
    "X_test[\"Power\"] = pd.to_numeric(bhp_test[0], errors = 'coerce')"
   ]
  },
  {
   "cell_type": "code",
   "execution_count": 18,
   "metadata": {},
   "outputs": [],
   "source": [
    "X_train[\"Engine\"].fillna(X_train[\"Engine\"].astype(\"float64\").mean(), inplace = True)\n",
    "X_test[\"Engine\"].fillna(X_train[\"Engine\"].astype(\"float64\").mean(), inplace = True)\n",
    "\n",
    "X_train[\"Power\"].fillna(X_train[\"Power\"].astype(\"float64\").mean(), inplace = True)\n",
    "X_test[\"Power\"].fillna(X_train[\"Power\"].astype(\"float64\").mean(), inplace = True)\n",
    "\n",
    "X_train[\"Seats\"].fillna(X_train[\"Seats\"].astype(\"float64\").mean(), inplace = True)\n",
    "X_test[\"Seats\"].fillna(X_train[\"Seats\"].astype(\"float64\").mean(), inplace = True)"
   ]
  },
  {
   "cell_type": "code",
   "execution_count": 19,
   "metadata": {},
   "outputs": [],
   "source": [
    "X_test[\"Manufacture\"].fillna(X_train[\"Manufacture\"].astype(\"float64\").mean(), inplace = True)"
   ]
  },
  {
   "cell_type": "code",
   "execution_count": 20,
   "metadata": {},
   "outputs": [
    {
     "output_type": "stream",
     "name": "stdout",
     "text": [
      "0\n"
     ]
    }
   ],
   "source": [
    "print(sum(X_test[\"Manufacture\"].isnull()))\n"
   ]
  },
  {
   "cell_type": "code",
   "execution_count": 21,
   "metadata": {},
   "outputs": [],
   "source": [
    "X_train.drop([\"New_Price\"], axis = 1, inplace = True)\n",
    "X_test.drop([\"New_Price\"], axis = 1, inplace = True)"
   ]
  },
  {
   "cell_type": "code",
   "execution_count": 22,
   "metadata": {},
   "outputs": [
    {
     "output_type": "execute_result",
     "data": {
      "text/plain": [
       "      Year  Kilometers_Driven Fuel_Type Transmission Owner_Type  Mileage  \\\n",
       "841      6              61000    Diesel       Manual      First    18.60   \n",
       "3378     3               6006    Petrol       Manual      First    20.73   \n",
       "1189    15              81000    Petrol       Manual     Second    12.80   \n",
       "175      9              53000    Diesel    Automatic      First    12.80   \n",
       "4747     5              46173    Diesel       Manual     Second    19.01   \n",
       "\n",
       "      Engine  Power  Seats  Manufacture  \n",
       "841   1388.0   67.0    5.0            1  \n",
       "3378  1373.0   91.1    5.0            2  \n",
       "1189  1493.0  100.0    5.0            3  \n",
       "175   1968.0  167.6    5.0            4  \n",
       "4747  1461.0  108.5    5.0            5  "
      ],
      "text/html": "<div>\n<style scoped>\n    .dataframe tbody tr th:only-of-type {\n        vertical-align: middle;\n    }\n\n    .dataframe tbody tr th {\n        vertical-align: top;\n    }\n\n    .dataframe thead th {\n        text-align: right;\n    }\n</style>\n<table border=\"1\" class=\"dataframe\">\n  <thead>\n    <tr style=\"text-align: right;\">\n      <th></th>\n      <th>Year</th>\n      <th>Kilometers_Driven</th>\n      <th>Fuel_Type</th>\n      <th>Transmission</th>\n      <th>Owner_Type</th>\n      <th>Mileage</th>\n      <th>Engine</th>\n      <th>Power</th>\n      <th>Seats</th>\n      <th>Manufacture</th>\n    </tr>\n  </thead>\n  <tbody>\n    <tr>\n      <th>841</th>\n      <td>6</td>\n      <td>61000</td>\n      <td>Diesel</td>\n      <td>Manual</td>\n      <td>First</td>\n      <td>18.60</td>\n      <td>1388.0</td>\n      <td>67.0</td>\n      <td>5.0</td>\n      <td>1</td>\n    </tr>\n    <tr>\n      <th>3378</th>\n      <td>3</td>\n      <td>6006</td>\n      <td>Petrol</td>\n      <td>Manual</td>\n      <td>First</td>\n      <td>20.73</td>\n      <td>1373.0</td>\n      <td>91.1</td>\n      <td>5.0</td>\n      <td>2</td>\n    </tr>\n    <tr>\n      <th>1189</th>\n      <td>15</td>\n      <td>81000</td>\n      <td>Petrol</td>\n      <td>Manual</td>\n      <td>Second</td>\n      <td>12.80</td>\n      <td>1493.0</td>\n      <td>100.0</td>\n      <td>5.0</td>\n      <td>3</td>\n    </tr>\n    <tr>\n      <th>175</th>\n      <td>9</td>\n      <td>53000</td>\n      <td>Diesel</td>\n      <td>Automatic</td>\n      <td>First</td>\n      <td>12.80</td>\n      <td>1968.0</td>\n      <td>167.6</td>\n      <td>5.0</td>\n      <td>4</td>\n    </tr>\n    <tr>\n      <th>4747</th>\n      <td>5</td>\n      <td>46173</td>\n      <td>Diesel</td>\n      <td>Manual</td>\n      <td>Second</td>\n      <td>19.01</td>\n      <td>1461.0</td>\n      <td>108.5</td>\n      <td>5.0</td>\n      <td>5</td>\n    </tr>\n  </tbody>\n</table>\n</div>"
     },
     "metadata": {},
     "execution_count": 22
    }
   ],
   "source": [
    "X_train.head(5)"
   ]
  },
  {
   "cell_type": "code",
   "execution_count": 23,
   "metadata": {},
   "outputs": [
    {
     "output_type": "execute_result",
     "data": {
      "text/plain": [
       "      Year  Kilometers_Driven Fuel_Type Transmission Owner_Type  Mileage  \\\n",
       "1315     3              39430    Petrol    Automatic      First    18.00   \n",
       "5824     7              62000    Diesel       Manual      First    22.07   \n",
       "1744     6              18000    Petrol       Manual      First    21.10   \n",
       "1860     4              15000    Petrol    Automatic      First    18.90   \n",
       "1559     6              23000    Diesel       Manual      First    24.50   \n",
       "\n",
       "      Engine  Power  Seats  Manufacture  \n",
       "1315  1497.0  117.3    5.0          3.0  \n",
       "5824  1199.0   73.9    5.0         17.0  \n",
       "1744   814.0   55.2    5.0          6.0  \n",
       "1860  1197.0   82.0    5.0          6.0  \n",
       "1559  1498.0   98.6    7.0          3.0  "
      ],
      "text/html": "<div>\n<style scoped>\n    .dataframe tbody tr th:only-of-type {\n        vertical-align: middle;\n    }\n\n    .dataframe tbody tr th {\n        vertical-align: top;\n    }\n\n    .dataframe thead th {\n        text-align: right;\n    }\n</style>\n<table border=\"1\" class=\"dataframe\">\n  <thead>\n    <tr style=\"text-align: right;\">\n      <th></th>\n      <th>Year</th>\n      <th>Kilometers_Driven</th>\n      <th>Fuel_Type</th>\n      <th>Transmission</th>\n      <th>Owner_Type</th>\n      <th>Mileage</th>\n      <th>Engine</th>\n      <th>Power</th>\n      <th>Seats</th>\n      <th>Manufacture</th>\n    </tr>\n  </thead>\n  <tbody>\n    <tr>\n      <th>1315</th>\n      <td>3</td>\n      <td>39430</td>\n      <td>Petrol</td>\n      <td>Automatic</td>\n      <td>First</td>\n      <td>18.00</td>\n      <td>1497.0</td>\n      <td>117.3</td>\n      <td>5.0</td>\n      <td>3.0</td>\n    </tr>\n    <tr>\n      <th>5824</th>\n      <td>7</td>\n      <td>62000</td>\n      <td>Diesel</td>\n      <td>Manual</td>\n      <td>First</td>\n      <td>22.07</td>\n      <td>1199.0</td>\n      <td>73.9</td>\n      <td>5.0</td>\n      <td>17.0</td>\n    </tr>\n    <tr>\n      <th>1744</th>\n      <td>6</td>\n      <td>18000</td>\n      <td>Petrol</td>\n      <td>Manual</td>\n      <td>First</td>\n      <td>21.10</td>\n      <td>814.0</td>\n      <td>55.2</td>\n      <td>5.0</td>\n      <td>6.0</td>\n    </tr>\n    <tr>\n      <th>1860</th>\n      <td>4</td>\n      <td>15000</td>\n      <td>Petrol</td>\n      <td>Automatic</td>\n      <td>First</td>\n      <td>18.90</td>\n      <td>1197.0</td>\n      <td>82.0</td>\n      <td>5.0</td>\n      <td>6.0</td>\n    </tr>\n    <tr>\n      <th>1559</th>\n      <td>6</td>\n      <td>23000</td>\n      <td>Diesel</td>\n      <td>Manual</td>\n      <td>First</td>\n      <td>24.50</td>\n      <td>1498.0</td>\n      <td>98.6</td>\n      <td>7.0</td>\n      <td>3.0</td>\n    </tr>\n  </tbody>\n</table>\n</div>"
     },
     "metadata": {},
     "execution_count": 23
    }
   ],
   "source": [
    "X_test.head(5)"
   ]
  },
  {
   "cell_type": "code",
   "execution_count": 24,
   "metadata": {},
   "outputs": [],
   "source": [
    "FuelTypeDict = {\n",
    "                    'Diesel':1,'Petrol':2,'CNG':3,'LPG':4,'Electric':5\n",
    "}\n",
    "X_train['Fuel_type'] = X_train.Fuel_Type.map(FuelTypeDict)\n",
    "X_train.drop(\"Fuel_Type\", axis = 1, inplace = True)"
   ]
  },
  {
   "cell_type": "code",
   "execution_count": 25,
   "metadata": {},
   "outputs": [],
   "source": [
    "X_test['Fuel_type'] = X_test.Fuel_Type.map(FuelTypeDict)\n",
    "X_test.drop(\"Fuel_Type\", axis = 1, inplace = True)"
   ]
  },
  {
   "cell_type": "code",
   "execution_count": 26,
   "metadata": {},
   "outputs": [
    {
     "output_type": "execute_result",
     "data": {
      "text/plain": [
       "      Year  Kilometers_Driven Transmission Owner_Type  Mileage  Engine  Power  \\\n",
       "841      6              61000       Manual      First    18.60  1388.0   67.0   \n",
       "3378     3               6006       Manual      First    20.73  1373.0   91.1   \n",
       "1189    15              81000       Manual     Second    12.80  1493.0  100.0   \n",
       "175      9              53000    Automatic      First    12.80  1968.0  167.6   \n",
       "4747     5              46173       Manual     Second    19.01  1461.0  108.5   \n",
       "\n",
       "      Seats  Manufacture  Fuel_type  \n",
       "841     5.0            1          1  \n",
       "3378    5.0            2          2  \n",
       "1189    5.0            3          2  \n",
       "175     5.0            4          1  \n",
       "4747    5.0            5          1  "
      ],
      "text/html": "<div>\n<style scoped>\n    .dataframe tbody tr th:only-of-type {\n        vertical-align: middle;\n    }\n\n    .dataframe tbody tr th {\n        vertical-align: top;\n    }\n\n    .dataframe thead th {\n        text-align: right;\n    }\n</style>\n<table border=\"1\" class=\"dataframe\">\n  <thead>\n    <tr style=\"text-align: right;\">\n      <th></th>\n      <th>Year</th>\n      <th>Kilometers_Driven</th>\n      <th>Transmission</th>\n      <th>Owner_Type</th>\n      <th>Mileage</th>\n      <th>Engine</th>\n      <th>Power</th>\n      <th>Seats</th>\n      <th>Manufacture</th>\n      <th>Fuel_type</th>\n    </tr>\n  </thead>\n  <tbody>\n    <tr>\n      <th>841</th>\n      <td>6</td>\n      <td>61000</td>\n      <td>Manual</td>\n      <td>First</td>\n      <td>18.60</td>\n      <td>1388.0</td>\n      <td>67.0</td>\n      <td>5.0</td>\n      <td>1</td>\n      <td>1</td>\n    </tr>\n    <tr>\n      <th>3378</th>\n      <td>3</td>\n      <td>6006</td>\n      <td>Manual</td>\n      <td>First</td>\n      <td>20.73</td>\n      <td>1373.0</td>\n      <td>91.1</td>\n      <td>5.0</td>\n      <td>2</td>\n      <td>2</td>\n    </tr>\n    <tr>\n      <th>1189</th>\n      <td>15</td>\n      <td>81000</td>\n      <td>Manual</td>\n      <td>Second</td>\n      <td>12.80</td>\n      <td>1493.0</td>\n      <td>100.0</td>\n      <td>5.0</td>\n      <td>3</td>\n      <td>2</td>\n    </tr>\n    <tr>\n      <th>175</th>\n      <td>9</td>\n      <td>53000</td>\n      <td>Automatic</td>\n      <td>First</td>\n      <td>12.80</td>\n      <td>1968.0</td>\n      <td>167.6</td>\n      <td>5.0</td>\n      <td>4</td>\n      <td>1</td>\n    </tr>\n    <tr>\n      <th>4747</th>\n      <td>5</td>\n      <td>46173</td>\n      <td>Manual</td>\n      <td>Second</td>\n      <td>19.01</td>\n      <td>1461.0</td>\n      <td>108.5</td>\n      <td>5.0</td>\n      <td>5</td>\n      <td>1</td>\n    </tr>\n  </tbody>\n</table>\n</div>"
     },
     "metadata": {},
     "execution_count": 26
    }
   ],
   "source": [
    "X_train.head(5)"
   ]
  },
  {
   "cell_type": "code",
   "execution_count": 27,
   "metadata": {},
   "outputs": [
    {
     "output_type": "execute_result",
     "data": {
      "text/plain": [
       "      Year  Kilometers_Driven Transmission Owner_Type  Mileage  Engine  Power  \\\n",
       "1315     3              39430    Automatic      First    18.00  1497.0  117.3   \n",
       "5824     7              62000       Manual      First    22.07  1199.0   73.9   \n",
       "1744     6              18000       Manual      First    21.10   814.0   55.2   \n",
       "1860     4              15000    Automatic      First    18.90  1197.0   82.0   \n",
       "1559     6              23000       Manual      First    24.50  1498.0   98.6   \n",
       "\n",
       "      Seats  Manufacture  Fuel_type  \n",
       "1315    5.0          3.0          2  \n",
       "5824    5.0         17.0          1  \n",
       "1744    5.0          6.0          2  \n",
       "1860    5.0          6.0          2  \n",
       "1559    7.0          3.0          1  "
      ],
      "text/html": "<div>\n<style scoped>\n    .dataframe tbody tr th:only-of-type {\n        vertical-align: middle;\n    }\n\n    .dataframe tbody tr th {\n        vertical-align: top;\n    }\n\n    .dataframe thead th {\n        text-align: right;\n    }\n</style>\n<table border=\"1\" class=\"dataframe\">\n  <thead>\n    <tr style=\"text-align: right;\">\n      <th></th>\n      <th>Year</th>\n      <th>Kilometers_Driven</th>\n      <th>Transmission</th>\n      <th>Owner_Type</th>\n      <th>Mileage</th>\n      <th>Engine</th>\n      <th>Power</th>\n      <th>Seats</th>\n      <th>Manufacture</th>\n      <th>Fuel_type</th>\n    </tr>\n  </thead>\n  <tbody>\n    <tr>\n      <th>1315</th>\n      <td>3</td>\n      <td>39430</td>\n      <td>Automatic</td>\n      <td>First</td>\n      <td>18.00</td>\n      <td>1497.0</td>\n      <td>117.3</td>\n      <td>5.0</td>\n      <td>3.0</td>\n      <td>2</td>\n    </tr>\n    <tr>\n      <th>5824</th>\n      <td>7</td>\n      <td>62000</td>\n      <td>Manual</td>\n      <td>First</td>\n      <td>22.07</td>\n      <td>1199.0</td>\n      <td>73.9</td>\n      <td>5.0</td>\n      <td>17.0</td>\n      <td>1</td>\n    </tr>\n    <tr>\n      <th>1744</th>\n      <td>6</td>\n      <td>18000</td>\n      <td>Manual</td>\n      <td>First</td>\n      <td>21.10</td>\n      <td>814.0</td>\n      <td>55.2</td>\n      <td>5.0</td>\n      <td>6.0</td>\n      <td>2</td>\n    </tr>\n    <tr>\n      <th>1860</th>\n      <td>4</td>\n      <td>15000</td>\n      <td>Automatic</td>\n      <td>First</td>\n      <td>18.90</td>\n      <td>1197.0</td>\n      <td>82.0</td>\n      <td>5.0</td>\n      <td>6.0</td>\n      <td>2</td>\n    </tr>\n    <tr>\n      <th>1559</th>\n      <td>6</td>\n      <td>23000</td>\n      <td>Manual</td>\n      <td>First</td>\n      <td>24.50</td>\n      <td>1498.0</td>\n      <td>98.6</td>\n      <td>7.0</td>\n      <td>3.0</td>\n      <td>1</td>\n    </tr>\n  </tbody>\n</table>\n</div>"
     },
     "metadata": {},
     "execution_count": 27
    }
   ],
   "source": [
    "X_test.head(5)"
   ]
  },
  {
   "cell_type": "code",
   "execution_count": 28,
   "metadata": {},
   "outputs": [
    {
     "output_type": "execute_result",
     "data": {
      "text/plain": [
       "      Year  Kilometers_Driven Transmission Owner_Type  Mileage  Engine  Power  \\\n",
       "1315     3              39430    Automatic      First    18.00  1497.0  117.3   \n",
       "5824     7              62000       Manual      First    22.07  1199.0   73.9   \n",
       "1744     6              18000       Manual      First    21.10   814.0   55.2   \n",
       "1860     4              15000    Automatic      First    18.90  1197.0   82.0   \n",
       "1559     6              23000       Manual      First    24.50  1498.0   98.6   \n",
       "\n",
       "      Seats  Manufacture  Fuel_type  \n",
       "1315    5.0          3.0          2  \n",
       "5824    5.0         17.0          1  \n",
       "1744    5.0          6.0          2  \n",
       "1860    5.0          6.0          2  \n",
       "1559    7.0          3.0          1  "
      ],
      "text/html": "<div>\n<style scoped>\n    .dataframe tbody tr th:only-of-type {\n        vertical-align: middle;\n    }\n\n    .dataframe tbody tr th {\n        vertical-align: top;\n    }\n\n    .dataframe thead th {\n        text-align: right;\n    }\n</style>\n<table border=\"1\" class=\"dataframe\">\n  <thead>\n    <tr style=\"text-align: right;\">\n      <th></th>\n      <th>Year</th>\n      <th>Kilometers_Driven</th>\n      <th>Transmission</th>\n      <th>Owner_Type</th>\n      <th>Mileage</th>\n      <th>Engine</th>\n      <th>Power</th>\n      <th>Seats</th>\n      <th>Manufacture</th>\n      <th>Fuel_type</th>\n    </tr>\n  </thead>\n  <tbody>\n    <tr>\n      <th>1315</th>\n      <td>3</td>\n      <td>39430</td>\n      <td>Automatic</td>\n      <td>First</td>\n      <td>18.00</td>\n      <td>1497.0</td>\n      <td>117.3</td>\n      <td>5.0</td>\n      <td>3.0</td>\n      <td>2</td>\n    </tr>\n    <tr>\n      <th>5824</th>\n      <td>7</td>\n      <td>62000</td>\n      <td>Manual</td>\n      <td>First</td>\n      <td>22.07</td>\n      <td>1199.0</td>\n      <td>73.9</td>\n      <td>5.0</td>\n      <td>17.0</td>\n      <td>1</td>\n    </tr>\n    <tr>\n      <th>1744</th>\n      <td>6</td>\n      <td>18000</td>\n      <td>Manual</td>\n      <td>First</td>\n      <td>21.10</td>\n      <td>814.0</td>\n      <td>55.2</td>\n      <td>5.0</td>\n      <td>6.0</td>\n      <td>2</td>\n    </tr>\n    <tr>\n      <th>1860</th>\n      <td>4</td>\n      <td>15000</td>\n      <td>Automatic</td>\n      <td>First</td>\n      <td>18.90</td>\n      <td>1197.0</td>\n      <td>82.0</td>\n      <td>5.0</td>\n      <td>6.0</td>\n      <td>2</td>\n    </tr>\n    <tr>\n      <th>1559</th>\n      <td>6</td>\n      <td>23000</td>\n      <td>Manual</td>\n      <td>First</td>\n      <td>24.50</td>\n      <td>1498.0</td>\n      <td>98.6</td>\n      <td>7.0</td>\n      <td>3.0</td>\n      <td>1</td>\n    </tr>\n  </tbody>\n</table>\n</div>"
     },
     "metadata": {},
     "execution_count": 28
    }
   ],
   "source": [
    "X_test.head(5)"
   ]
  },
  {
   "cell_type": "code",
   "execution_count": 29,
   "metadata": {},
   "outputs": [],
   "source": [
    "OwnerTypeDict = {\n",
    "                    'First':1,'Second':2,'Third':3,'Fourth and above':4\n",
    "}\n",
    "X_train['Owner_type'] = X_train.Owner_Type.map(OwnerTypeDict)\n",
    "X_train.drop(\"Owner_Type\", axis = 1, inplace = True)"
   ]
  },
  {
   "cell_type": "code",
   "execution_count": 31,
   "metadata": {},
   "outputs": [],
   "source": [
    "X_test['Owner_type'] = X_test.Owner_Type.map(OwnerTypeDict)\n",
    "X_test.drop(\"Owner_Type\", axis = 1, inplace = True)"
   ]
  },
  {
   "cell_type": "code",
   "execution_count": 32,
   "metadata": {},
   "outputs": [
    {
     "output_type": "execute_result",
     "data": {
      "text/plain": [
       "      Year  Kilometers_Driven Transmission  Mileage  Engine  Power  Seats  \\\n",
       "1315     3              39430    Automatic    18.00  1497.0  117.3    5.0   \n",
       "5824     7              62000       Manual    22.07  1199.0   73.9    5.0   \n",
       "1744     6              18000       Manual    21.10   814.0   55.2    5.0   \n",
       "1860     4              15000    Automatic    18.90  1197.0   82.0    5.0   \n",
       "1559     6              23000       Manual    24.50  1498.0   98.6    7.0   \n",
       "\n",
       "      Manufacture  Fuel_type  Owner_type  \n",
       "1315          3.0          2         1.0  \n",
       "5824         17.0          1         1.0  \n",
       "1744          6.0          2         1.0  \n",
       "1860          6.0          2         1.0  \n",
       "1559          3.0          1         1.0  "
      ],
      "text/html": "<div>\n<style scoped>\n    .dataframe tbody tr th:only-of-type {\n        vertical-align: middle;\n    }\n\n    .dataframe tbody tr th {\n        vertical-align: top;\n    }\n\n    .dataframe thead th {\n        text-align: right;\n    }\n</style>\n<table border=\"1\" class=\"dataframe\">\n  <thead>\n    <tr style=\"text-align: right;\">\n      <th></th>\n      <th>Year</th>\n      <th>Kilometers_Driven</th>\n      <th>Transmission</th>\n      <th>Mileage</th>\n      <th>Engine</th>\n      <th>Power</th>\n      <th>Seats</th>\n      <th>Manufacture</th>\n      <th>Fuel_type</th>\n      <th>Owner_type</th>\n    </tr>\n  </thead>\n  <tbody>\n    <tr>\n      <th>1315</th>\n      <td>3</td>\n      <td>39430</td>\n      <td>Automatic</td>\n      <td>18.00</td>\n      <td>1497.0</td>\n      <td>117.3</td>\n      <td>5.0</td>\n      <td>3.0</td>\n      <td>2</td>\n      <td>1.0</td>\n    </tr>\n    <tr>\n      <th>5824</th>\n      <td>7</td>\n      <td>62000</td>\n      <td>Manual</td>\n      <td>22.07</td>\n      <td>1199.0</td>\n      <td>73.9</td>\n      <td>5.0</td>\n      <td>17.0</td>\n      <td>1</td>\n      <td>1.0</td>\n    </tr>\n    <tr>\n      <th>1744</th>\n      <td>6</td>\n      <td>18000</td>\n      <td>Manual</td>\n      <td>21.10</td>\n      <td>814.0</td>\n      <td>55.2</td>\n      <td>5.0</td>\n      <td>6.0</td>\n      <td>2</td>\n      <td>1.0</td>\n    </tr>\n    <tr>\n      <th>1860</th>\n      <td>4</td>\n      <td>15000</td>\n      <td>Automatic</td>\n      <td>18.90</td>\n      <td>1197.0</td>\n      <td>82.0</td>\n      <td>5.0</td>\n      <td>6.0</td>\n      <td>2</td>\n      <td>1.0</td>\n    </tr>\n    <tr>\n      <th>1559</th>\n      <td>6</td>\n      <td>23000</td>\n      <td>Manual</td>\n      <td>24.50</td>\n      <td>1498.0</td>\n      <td>98.6</td>\n      <td>7.0</td>\n      <td>3.0</td>\n      <td>1</td>\n      <td>1.0</td>\n    </tr>\n  </tbody>\n</table>\n</div>"
     },
     "metadata": {},
     "execution_count": 32
    }
   ],
   "source": [
    "X_test.head(5)"
   ]
  },
  {
   "cell_type": "code",
   "execution_count": 33,
   "metadata": {},
   "outputs": [],
   "source": [
    "TransmissionDict = {\n",
    "                    'Mannual':1,'Automatic':0\n",
    "}\n",
    "X_train['Transmission_type'] = X_train.Transmission.map(TransmissionDict)\n",
    "X_train.drop(\"Transmission\", axis = 1, inplace = True)"
   ]
  },
  {
   "cell_type": "code",
   "execution_count": 34,
   "metadata": {},
   "outputs": [],
   "source": [
    "X_test['Transmission_type'] = X_test.Transmission.map(TransmissionDict)\n",
    "X_test.drop(\"Transmission\", axis = 1, inplace = True)"
   ]
  },
  {
   "cell_type": "code",
   "execution_count": 35,
   "metadata": {},
   "outputs": [
    {
     "output_type": "execute_result",
     "data": {
      "text/plain": [
       "      Year  Kilometers_Driven  Mileage  Engine  Power  Seats  Manufacture  \\\n",
       "841      6              61000    18.60  1388.0   67.0    5.0            1   \n",
       "3378     3               6006    20.73  1373.0   91.1    5.0            2   \n",
       "1189    15              81000    12.80  1493.0  100.0    5.0            3   \n",
       "175      9              53000    12.80  1968.0  167.6    5.0            4   \n",
       "4747     5              46173    19.01  1461.0  108.5    5.0            5   \n",
       "\n",
       "      Fuel_type  Owner_type  Transmission_type  \n",
       "841           1         1.0                NaN  \n",
       "3378          2         1.0                NaN  \n",
       "1189          2         2.0                NaN  \n",
       "175           1         1.0                0.0  \n",
       "4747          1         2.0                NaN  "
      ],
      "text/html": "<div>\n<style scoped>\n    .dataframe tbody tr th:only-of-type {\n        vertical-align: middle;\n    }\n\n    .dataframe tbody tr th {\n        vertical-align: top;\n    }\n\n    .dataframe thead th {\n        text-align: right;\n    }\n</style>\n<table border=\"1\" class=\"dataframe\">\n  <thead>\n    <tr style=\"text-align: right;\">\n      <th></th>\n      <th>Year</th>\n      <th>Kilometers_Driven</th>\n      <th>Mileage</th>\n      <th>Engine</th>\n      <th>Power</th>\n      <th>Seats</th>\n      <th>Manufacture</th>\n      <th>Fuel_type</th>\n      <th>Owner_type</th>\n      <th>Transmission_type</th>\n    </tr>\n  </thead>\n  <tbody>\n    <tr>\n      <th>841</th>\n      <td>6</td>\n      <td>61000</td>\n      <td>18.60</td>\n      <td>1388.0</td>\n      <td>67.0</td>\n      <td>5.0</td>\n      <td>1</td>\n      <td>1</td>\n      <td>1.0</td>\n      <td>NaN</td>\n    </tr>\n    <tr>\n      <th>3378</th>\n      <td>3</td>\n      <td>6006</td>\n      <td>20.73</td>\n      <td>1373.0</td>\n      <td>91.1</td>\n      <td>5.0</td>\n      <td>2</td>\n      <td>2</td>\n      <td>1.0</td>\n      <td>NaN</td>\n    </tr>\n    <tr>\n      <th>1189</th>\n      <td>15</td>\n      <td>81000</td>\n      <td>12.80</td>\n      <td>1493.0</td>\n      <td>100.0</td>\n      <td>5.0</td>\n      <td>3</td>\n      <td>2</td>\n      <td>2.0</td>\n      <td>NaN</td>\n    </tr>\n    <tr>\n      <th>175</th>\n      <td>9</td>\n      <td>53000</td>\n      <td>12.80</td>\n      <td>1968.0</td>\n      <td>167.6</td>\n      <td>5.0</td>\n      <td>4</td>\n      <td>1</td>\n      <td>1.0</td>\n      <td>0.0</td>\n    </tr>\n    <tr>\n      <th>4747</th>\n      <td>5</td>\n      <td>46173</td>\n      <td>19.01</td>\n      <td>1461.0</td>\n      <td>108.5</td>\n      <td>5.0</td>\n      <td>5</td>\n      <td>1</td>\n      <td>2.0</td>\n      <td>NaN</td>\n    </tr>\n  </tbody>\n</table>\n</div>"
     },
     "metadata": {},
     "execution_count": 35
    }
   ],
   "source": [
    "X_train.head(5)"
   ]
  },
  {
   "cell_type": "code",
   "execution_count": 36,
   "metadata": {},
   "outputs": [
    {
     "output_type": "stream",
     "name": "stdout",
     "text": [
      "0\n"
     ]
    }
   ],
   "source": [
    "print(sum(X_train[\"Fuel_type\"].isnull()))\n"
   ]
  },
  {
   "cell_type": "code",
   "execution_count": 37,
   "metadata": {},
   "outputs": [
    {
     "output_type": "stream",
     "name": "stdout",
     "text": [
      "8\n"
     ]
    }
   ],
   "source": [
    "print(sum(X_train[\"Owner_type\"].isnull()))\n"
   ]
  },
  {
   "cell_type": "code",
   "execution_count": 38,
   "metadata": {},
   "outputs": [],
   "source": [
    "X_train[\"Owner_type\"].fillna(X_train[\"Owner_type\"].astype(\"float64\").mean(), inplace = True)\n"
   ]
  },
  {
   "cell_type": "code",
   "execution_count": 39,
   "metadata": {},
   "outputs": [
    {
     "output_type": "stream",
     "name": "stdout",
     "text": [
      "0\n"
     ]
    }
   ],
   "source": [
    "print(sum(X_train[\"Owner_type\"].isnull()))\n"
   ]
  },
  {
   "cell_type": "code",
   "execution_count": 40,
   "metadata": {},
   "outputs": [
    {
     "output_type": "stream",
     "name": "stdout",
     "text": [
      "1\n"
     ]
    }
   ],
   "source": [
    "print(sum(X_test[\"Owner_type\"].isnull()))\n"
   ]
  },
  {
   "cell_type": "code",
   "execution_count": 41,
   "metadata": {},
   "outputs": [],
   "source": [
    "X_test[\"Owner_type\"].fillna(X_train[\"Owner_type\"].astype(\"float64\").mean(), inplace = True)\n"
   ]
  },
  {
   "cell_type": "code",
   "execution_count": 42,
   "metadata": {},
   "outputs": [
    {
     "output_type": "stream",
     "name": "stdout",
     "text": [
      "0\n"
     ]
    }
   ],
   "source": [
    "print(sum(X_test[\"Owner_type\"].isnull()))\n"
   ]
  },
  {
   "cell_type": "code",
   "execution_count": 43,
   "metadata": {},
   "outputs": [
    {
     "output_type": "stream",
     "name": "stdout",
     "text": [
      "0\n"
     ]
    }
   ],
   "source": [
    "print(sum(X_test[\"Fuel_type\"].isnull()))\n"
   ]
  },
  {
   "cell_type": "code",
   "execution_count": 44,
   "metadata": {},
   "outputs": [
    {
     "output_type": "stream",
     "name": "stdout",
     "text": [
      "3028\n"
     ]
    }
   ],
   "source": [
    "print(sum(X_train[\"Transmission_type\"].isnull()))\n"
   ]
  },
  {
   "cell_type": "code",
   "execution_count": 45,
   "metadata": {},
   "outputs": [],
   "source": [
    "X_test[\"Transmission_type\"].fillna(X_train[\"Transmission_type\"].astype(\"float64\").mean(), inplace = True)\n"
   ]
  },
  {
   "cell_type": "code",
   "execution_count": 46,
   "metadata": {},
   "outputs": [],
   "source": [
    "X_train[\"Transmission_type\"].fillna(X_train[\"Transmission_type\"].astype(\"float64\").mean(), inplace = True)\n"
   ]
  },
  {
   "cell_type": "code",
   "execution_count": 47,
   "metadata": {},
   "outputs": [
    {
     "output_type": "stream",
     "name": "stdout",
     "text": [
      "0\n"
     ]
    }
   ],
   "source": [
    "print(sum(X_train[\"Transmission_type\"].isnull()))\n"
   ]
  },
  {
   "cell_type": "code",
   "execution_count": 48,
   "metadata": {},
   "outputs": [
    {
     "output_type": "stream",
     "name": "stdout",
     "text": [
      "0\n"
     ]
    }
   ],
   "source": [
    "print(sum(X_test[\"Transmission_type\"].isnull()))\n"
   ]
  },
  {
   "cell_type": "code",
   "execution_count": 49,
   "metadata": {},
   "outputs": [
    {
     "output_type": "execute_result",
     "data": {
      "text/plain": [
       "      Year  Kilometers_Driven  Mileage  Engine  Power  Seats  Manufacture  \\\n",
       "841      6              61000    18.60  1388.0   67.0    5.0            1   \n",
       "3378     3               6006    20.73  1373.0   91.1    5.0            2   \n",
       "1189    15              81000    12.80  1493.0  100.0    5.0            3   \n",
       "175      9              53000    12.80  1968.0  167.6    5.0            4   \n",
       "4747     5              46173    19.01  1461.0  108.5    5.0            5   \n",
       "\n",
       "      Fuel_type  Owner_type  Transmission_type  \n",
       "841           1         1.0                0.0  \n",
       "3378          2         1.0                0.0  \n",
       "1189          2         2.0                0.0  \n",
       "175           1         1.0                0.0  \n",
       "4747          1         2.0                0.0  "
      ],
      "text/html": "<div>\n<style scoped>\n    .dataframe tbody tr th:only-of-type {\n        vertical-align: middle;\n    }\n\n    .dataframe tbody tr th {\n        vertical-align: top;\n    }\n\n    .dataframe thead th {\n        text-align: right;\n    }\n</style>\n<table border=\"1\" class=\"dataframe\">\n  <thead>\n    <tr style=\"text-align: right;\">\n      <th></th>\n      <th>Year</th>\n      <th>Kilometers_Driven</th>\n      <th>Mileage</th>\n      <th>Engine</th>\n      <th>Power</th>\n      <th>Seats</th>\n      <th>Manufacture</th>\n      <th>Fuel_type</th>\n      <th>Owner_type</th>\n      <th>Transmission_type</th>\n    </tr>\n  </thead>\n  <tbody>\n    <tr>\n      <th>841</th>\n      <td>6</td>\n      <td>61000</td>\n      <td>18.60</td>\n      <td>1388.0</td>\n      <td>67.0</td>\n      <td>5.0</td>\n      <td>1</td>\n      <td>1</td>\n      <td>1.0</td>\n      <td>0.0</td>\n    </tr>\n    <tr>\n      <th>3378</th>\n      <td>3</td>\n      <td>6006</td>\n      <td>20.73</td>\n      <td>1373.0</td>\n      <td>91.1</td>\n      <td>5.0</td>\n      <td>2</td>\n      <td>2</td>\n      <td>1.0</td>\n      <td>0.0</td>\n    </tr>\n    <tr>\n      <th>1189</th>\n      <td>15</td>\n      <td>81000</td>\n      <td>12.80</td>\n      <td>1493.0</td>\n      <td>100.0</td>\n      <td>5.0</td>\n      <td>3</td>\n      <td>2</td>\n      <td>2.0</td>\n      <td>0.0</td>\n    </tr>\n    <tr>\n      <th>175</th>\n      <td>9</td>\n      <td>53000</td>\n      <td>12.80</td>\n      <td>1968.0</td>\n      <td>167.6</td>\n      <td>5.0</td>\n      <td>4</td>\n      <td>1</td>\n      <td>1.0</td>\n      <td>0.0</td>\n    </tr>\n    <tr>\n      <th>4747</th>\n      <td>5</td>\n      <td>46173</td>\n      <td>19.01</td>\n      <td>1461.0</td>\n      <td>108.5</td>\n      <td>5.0</td>\n      <td>5</td>\n      <td>1</td>\n      <td>2.0</td>\n      <td>0.0</td>\n    </tr>\n  </tbody>\n</table>\n</div>"
     },
     "metadata": {},
     "execution_count": 49
    }
   ],
   "source": [
    "X_train.head(5)"
   ]
  },
  {
   "cell_type": "code",
   "execution_count": 50,
   "metadata": {},
   "outputs": [
    {
     "output_type": "execute_result",
     "data": {
      "text/plain": [
       "      Year  Kilometers_Driven  Mileage  Engine  Power  Seats  Manufacture  \\\n",
       "1315     3              39430    18.00  1497.0  117.3    5.0          3.0   \n",
       "5824     7              62000    22.07  1199.0   73.9    5.0         17.0   \n",
       "1744     6              18000    21.10   814.0   55.2    5.0          6.0   \n",
       "1860     4              15000    18.90  1197.0   82.0    5.0          6.0   \n",
       "1559     6              23000    24.50  1498.0   98.6    7.0          3.0   \n",
       "\n",
       "      Fuel_type  Owner_type  Transmission_type  \n",
       "1315          2         1.0                0.0  \n",
       "5824          1         1.0                0.0  \n",
       "1744          2         1.0                0.0  \n",
       "1860          2         1.0                0.0  \n",
       "1559          1         1.0                0.0  "
      ],
      "text/html": "<div>\n<style scoped>\n    .dataframe tbody tr th:only-of-type {\n        vertical-align: middle;\n    }\n\n    .dataframe tbody tr th {\n        vertical-align: top;\n    }\n\n    .dataframe thead th {\n        text-align: right;\n    }\n</style>\n<table border=\"1\" class=\"dataframe\">\n  <thead>\n    <tr style=\"text-align: right;\">\n      <th></th>\n      <th>Year</th>\n      <th>Kilometers_Driven</th>\n      <th>Mileage</th>\n      <th>Engine</th>\n      <th>Power</th>\n      <th>Seats</th>\n      <th>Manufacture</th>\n      <th>Fuel_type</th>\n      <th>Owner_type</th>\n      <th>Transmission_type</th>\n    </tr>\n  </thead>\n  <tbody>\n    <tr>\n      <th>1315</th>\n      <td>3</td>\n      <td>39430</td>\n      <td>18.00</td>\n      <td>1497.0</td>\n      <td>117.3</td>\n      <td>5.0</td>\n      <td>3.0</td>\n      <td>2</td>\n      <td>1.0</td>\n      <td>0.0</td>\n    </tr>\n    <tr>\n      <th>5824</th>\n      <td>7</td>\n      <td>62000</td>\n      <td>22.07</td>\n      <td>1199.0</td>\n      <td>73.9</td>\n      <td>5.0</td>\n      <td>17.0</td>\n      <td>1</td>\n      <td>1.0</td>\n      <td>0.0</td>\n    </tr>\n    <tr>\n      <th>1744</th>\n      <td>6</td>\n      <td>18000</td>\n      <td>21.10</td>\n      <td>814.0</td>\n      <td>55.2</td>\n      <td>5.0</td>\n      <td>6.0</td>\n      <td>2</td>\n      <td>1.0</td>\n      <td>0.0</td>\n    </tr>\n    <tr>\n      <th>1860</th>\n      <td>4</td>\n      <td>15000</td>\n      <td>18.90</td>\n      <td>1197.0</td>\n      <td>82.0</td>\n      <td>5.0</td>\n      <td>6.0</td>\n      <td>2</td>\n      <td>1.0</td>\n      <td>0.0</td>\n    </tr>\n    <tr>\n      <th>1559</th>\n      <td>6</td>\n      <td>23000</td>\n      <td>24.50</td>\n      <td>1498.0</td>\n      <td>98.6</td>\n      <td>7.0</td>\n      <td>3.0</td>\n      <td>1</td>\n      <td>1.0</td>\n      <td>0.0</td>\n    </tr>\n  </tbody>\n</table>\n</div>"
     },
     "metadata": {},
     "execution_count": 50
    }
   ],
   "source": [
    "X_test.head(5)"
   ]
  },
  {
   "cell_type": "code",
   "execution_count": 51,
   "metadata": {},
   "outputs": [],
   "source": [
    "standardScaler = StandardScaler()\n",
    "standardScaler.fit(X_train)\n",
    "X_train = standardScaler.transform(X_train)\n",
    "X_test = standardScaler.transform(X_test)"
   ]
  },
  {
   "cell_type": "code",
   "execution_count": 52,
   "metadata": {},
   "outputs": [
    {
     "output_type": "execute_result",
     "data": {
      "text/plain": [
       "0.8721760072565564"
      ]
     },
     "metadata": {},
     "execution_count": 52
    }
   ],
   "source": [
    "rf = RandomForestRegressor(n_estimators = 100)\n",
    "rf.fit(X_train, y_train)\n",
    "y_pred = rf.predict(X_test)\n",
    "r2_score(y_test, y_pred)"
   ]
  },
  {
   "cell_type": "code",
   "execution_count": 1,
   "metadata": {},
   "outputs": [
    {
     "output_type": "error",
     "ename": "NameError",
     "evalue": "name 'LinearRegression' is not defined",
     "traceback": [
      "\u001b[1;31m---------------------------------------------------------------------------\u001b[0m",
      "\u001b[1;31mNameError\u001b[0m                                 Traceback (most recent call last)",
      "\u001b[1;32m<ipython-input-1-c5e70ef990b5>\u001b[0m in \u001b[0;36m<module>\u001b[1;34m\u001b[0m\n\u001b[1;32m----> 1\u001b[1;33m \u001b[0mlinearRegression\u001b[0m \u001b[1;33m=\u001b[0m \u001b[0mLinearRegression\u001b[0m\u001b[1;33m(\u001b[0m\u001b[1;33m)\u001b[0m\u001b[1;33m\u001b[0m\u001b[1;33m\u001b[0m\u001b[0m\n\u001b[0m\u001b[0;32m      2\u001b[0m \u001b[0mlinearRegression\u001b[0m\u001b[1;33m.\u001b[0m\u001b[0mfit\u001b[0m\u001b[1;33m(\u001b[0m\u001b[0mX_train\u001b[0m\u001b[1;33m,\u001b[0m \u001b[0my_train\u001b[0m\u001b[1;33m)\u001b[0m\u001b[1;33m\u001b[0m\u001b[1;33m\u001b[0m\u001b[0m\n\u001b[0;32m      3\u001b[0m \u001b[0my_pred\u001b[0m \u001b[1;33m=\u001b[0m \u001b[0mlinearRegression\u001b[0m\u001b[1;33m.\u001b[0m\u001b[0mpredict\u001b[0m\u001b[1;33m(\u001b[0m\u001b[0mX_test\u001b[0m\u001b[1;33m)\u001b[0m\u001b[1;33m\u001b[0m\u001b[1;33m\u001b[0m\u001b[0m\n\u001b[0;32m      4\u001b[0m \u001b[0mr2_score\u001b[0m\u001b[1;33m(\u001b[0m\u001b[0my_test\u001b[0m\u001b[1;33m,\u001b[0m \u001b[0my_pred\u001b[0m\u001b[1;33m)\u001b[0m\u001b[1;33m\u001b[0m\u001b[1;33m\u001b[0m\u001b[0m\n",
      "\u001b[1;31mNameError\u001b[0m: name 'LinearRegression' is not defined"
     ]
    }
   ],
   "source": [
    "linearRegression = LinearRegression()\n",
    "linearRegression.fit(X_train, y_train)\n",
    "y_pred = linearRegression.predict(X_test)\n",
    "r2_score(y_test, y_pred)"
   ]
  },
  {
   "cell_type": "code",
   "execution_count": 55,
   "metadata": {},
   "outputs": [],
   "source": [
    "import pickle\n",
    "file = open('RandomForestModel.pkl', 'wb')\n",
    "pickle.dump(rf, file)"
   ]
  },
  {
   "cell_type": "code",
   "execution_count": 56,
   "metadata": {},
   "outputs": [],
   "source": [
    "pickle.dump(standardScaler,open('Scaler.sav', 'wb'))"
   ]
  },
  {
   "cell_type": "code",
   "execution_count": null,
   "metadata": {},
   "outputs": [],
   "source": []
  }
 ]
}